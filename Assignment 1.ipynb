{
 "cells": [
  {
   "cell_type": "markdown",
   "id": "04bd1b4a",
   "metadata": {},
   "source": [
    "# Question 1\n"
   ]
  },
  {
   "cell_type": "code",
   "execution_count": 13,
   "id": "8e5af0cd",
   "metadata": {},
   "outputs": [
    {
     "name": "stdout",
     "output_type": "stream",
     "text": [
      "Enter 1st number: 833\n",
      "Enter 1st number: 544\n",
      "1377\n"
     ]
    }
   ],
   "source": [
    "a = int(input(\"Enter 1st number: \"))\n",
    "b = int(input(\"Enter 1st number: \"))\n",
    "c= a*b\n",
    "if c>1000:\n",
    "    d = a+b \n",
    "    print(d)\n",
    "else:\n",
    "    print(c)"
   ]
  },
  {
   "cell_type": "markdown",
   "id": "c39fd020",
   "metadata": {},
   "source": [
    "# Question 2"
   ]
  },
  {
   "cell_type": "code",
   "execution_count": 19,
   "id": "bfcca8d5",
   "metadata": {},
   "outputs": [
    {
     "name": "stdout",
     "output_type": "stream",
     "text": [
      "Current Number 0 Previous Number 0 sum is 0\n",
      "Current Number 1 Previous Number 0 sum is 1\n",
      "Current Number 2 Previous Number 1 sum is 3\n",
      "Current Number 3 Previous Number 2 sum is 5\n",
      "Current Number 4 Previous Number 3 sum is 7\n",
      "Current Number 5 Previous Number 4 sum is 9\n",
      "Current Number 6 Previous Number 5 sum is 11\n",
      "Current Number 7 Previous Number 6 sum is 13\n",
      "Current Number 8 Previous Number 7 sum is 15\n",
      "Current Number 9 Previous Number 8 sum is 17\n"
     ]
    }
   ],
   "source": [
    "li = list(range(10))\n",
    "pn = 0\n",
    "for i in li:\n",
    "    x= pn + i\n",
    "    print( 'Current Number '+ str(i) + ' Previous Number ' +  str(pn) + ' sum is ' + str(x))\n",
    "    pn = i"
   ]
  },
  {
   "cell_type": "markdown",
   "id": "361a5ef9",
   "metadata": {},
   "source": [
    "# Question 3"
   ]
  },
  {
   "cell_type": "code",
   "execution_count": 17,
   "id": "2be5a7eb",
   "metadata": {},
   "outputs": [
    {
     "name": "stdout",
     "output_type": "stream",
     "text": [
      "1\n",
      "2\n",
      "3\n",
      "4\n",
      "5\n",
      "6\n",
      "7\n",
      "8\n",
      "9\n",
      "10\n"
     ]
    }
   ],
   "source": [
    "i = 1\n",
    "n = 10\n",
    "while i<=n:\n",
    "    print(i)\n",
    "    i = i+1"
   ]
  },
  {
   "cell_type": "markdown",
   "id": "702f31fe",
   "metadata": {},
   "source": [
    "# Question 4"
   ]
  },
  {
   "cell_type": "code",
   "execution_count": 11,
   "id": "f5e48d76",
   "metadata": {},
   "outputs": [
    {
     "name": "stdout",
     "output_type": "stream",
     "text": [
      "Enter the number: 10\n",
      "45\n"
     ]
    }
   ],
   "source": [
    "sum = 0\n",
    "n = int(input(\"Enter the number: \"))\n",
    "for i in range(1,n):\n",
    "    sum  = sum + i\n",
    "print(sum)"
   ]
  },
  {
   "cell_type": "markdown",
   "id": "4b1b070f",
   "metadata": {},
   "source": [
    "# Question 5"
   ]
  },
  {
   "cell_type": "code",
   "execution_count": 21,
   "id": "17bcc1a9",
   "metadata": {},
   "outputs": [
    {
     "name": "stdout",
     "output_type": "stream",
     "text": [
      "2.0\n",
      "3.0\n",
      "4.0\n",
      "4.6\n",
      "8.6\n",
      "6.4\n",
      "4.2\n"
     ]
    }
   ],
   "source": [
    "li = [10,15,20,23,43,32,21,300000,2333,23]\n",
    "for i in li:\n",
    "    div = i/5\n",
    "    if div>150:\n",
    "        break\n",
    "    else:\n",
    "        print(div)\n",
    "        \n",
    "\n"
   ]
  },
  {
   "cell_type": "markdown",
   "id": "835f8b42",
   "metadata": {},
   "source": [
    "# Question 6"
   ]
  },
  {
   "cell_type": "code",
   "execution_count": 4,
   "id": "ae2f71e1",
   "metadata": {},
   "outputs": [
    {
     "data": {
      "text/plain": [
       "[9, 8, 7, 6, 5, 4, 3, 2, 1]"
      ]
     },
     "execution_count": 4,
     "metadata": {},
     "output_type": "execute_result"
    }
   ],
   "source": [
    "list = [1,2,3,4,5,6,7,8,9]\n",
    "\n",
    "for i in range(len(list)//2):\n",
    "    list[i],list[-1-i] = list[-1-i],list[i]\n",
    "    \n",
    "list\n"
   ]
  },
  {
   "cell_type": "code",
   "execution_count": 8,
   "id": "55a8a813",
   "metadata": {},
   "outputs": [
    {
     "name": "stdout",
     "output_type": "stream",
     "text": [
      "35\n",
      "45\n",
      "30\n",
      "25\n",
      "20\n",
      "10\n"
     ]
    }
   ],
   "source": [
    "list1=[10,20,25,30,45,35]\n",
    "#list.reverse()\n",
    "for i in range(len(list1)-1,-1,-1):\n",
    "    print(list1[i])"
   ]
  },
  {
   "cell_type": "markdown",
   "id": "dbfe8e10",
   "metadata": {},
   "source": [
    "# Question 7"
   ]
  },
  {
   "cell_type": "code",
   "execution_count": 6,
   "id": "7bcbe865",
   "metadata": {},
   "outputs": [
    {
     "data": {
      "text/plain": [
       "'My**Name**Is**Tamim'"
      ]
     },
     "execution_count": 6,
     "metadata": {},
     "output_type": "execute_result"
    }
   ],
   "source": [
    "'My**Name**Is**Tamim'"
   ]
  },
  {
   "cell_type": "code",
   "execution_count": 7,
   "id": "610af716",
   "metadata": {},
   "outputs": [
    {
     "name": "stdout",
     "output_type": "stream",
     "text": [
      "My** Name** Is** Tamim\n"
     ]
    }
   ],
   "source": [
    "print('My**', 'Name**', 'Is**', 'Tamim')"
   ]
  },
  {
   "cell_type": "markdown",
   "id": "8353fe66",
   "metadata": {},
   "source": [
    "# Question 8"
   ]
  },
  {
   "cell_type": "code",
   "execution_count": 1,
   "id": "205d0b78",
   "metadata": {},
   "outputs": [
    {
     "ename": "TypeError",
     "evalue": "'type' object is not subscriptable",
     "output_type": "error",
     "traceback": [
      "\u001b[1;31m---------------------------------------------------------------------------\u001b[0m",
      "\u001b[1;31mTypeError\u001b[0m                                 Traceback (most recent call last)",
      "\u001b[1;32m<ipython-input-1-6d2c416ff5ad>\u001b[0m in \u001b[0;36m<module>\u001b[1;34m\u001b[0m\n\u001b[0;32m      2\u001b[0m \u001b[0mb\u001b[0m \u001b[1;33m=\u001b[0m \u001b[1;33m[\u001b[0m\u001b[1;36m8\u001b[0m\u001b[1;33m,\u001b[0m\u001b[1;36m9\u001b[0m\u001b[1;33m,\u001b[0m\u001b[1;36m10\u001b[0m\u001b[1;33m,\u001b[0m\u001b[1;36m11\u001b[0m\u001b[1;33m,\u001b[0m\u001b[1;36m12\u001b[0m\u001b[1;33m]\u001b[0m\u001b[1;33m\u001b[0m\u001b[1;33m\u001b[0m\u001b[0m\n\u001b[0;32m      3\u001b[0m \u001b[1;33m\u001b[0m\u001b[0m\n\u001b[1;32m----> 4\u001b[1;33m \u001b[0mprint\u001b[0m\u001b[1;33m(\u001b[0m\u001b[1;34m\"first list valu is :\"\u001b[0m\u001b[1;33m,\u001b[0m \u001b[0mstr\u001b[0m\u001b[1;33m[\u001b[0m\u001b[0ma\u001b[0m\u001b[1;33m]\u001b[0m\u001b[1;33m)\u001b[0m\u001b[1;33m\u001b[0m\u001b[1;33m\u001b[0m\u001b[0m\n\u001b[0m\u001b[0;32m      5\u001b[0m \u001b[1;33m\u001b[0m\u001b[0m\n",
      "\u001b[1;31mTypeError\u001b[0m: 'type' object is not subscriptable"
     ]
    }
   ],
   "source": [
    "a  = [1,2,3,4,5,6,7]\n",
    "b = [8,9,10,11,12]\n",
    "\n",
    "print(\"first list valu is: \", str[a])\n",
    "print(\"2nd list valu is: \", str[b])\n",
    "\n",
    "\n",
    "\n",
    "\n",
    "\n"
   ]
  }
 ],
 "metadata": {
  "kernelspec": {
   "display_name": "Python 3",
   "language": "python",
   "name": "python3"
  },
  "language_info": {
   "codemirror_mode": {
    "name": "ipython",
    "version": 3
   },
   "file_extension": ".py",
   "mimetype": "text/x-python",
   "name": "python",
   "nbconvert_exporter": "python",
   "pygments_lexer": "ipython3",
   "version": "3.8.8"
  }
 },
 "nbformat": 4,
 "nbformat_minor": 5
}
